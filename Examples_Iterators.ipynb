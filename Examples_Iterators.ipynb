{
 "cells": [
  {
   "cell_type": "markdown",
   "id": "5696a30d",
   "metadata": {},
   "source": [
    "# Iterators"
   ]
  },
  {
   "cell_type": "markdown",
   "id": "5c4964fb",
   "metadata": {},
   "source": [
    "### for-loop"
   ]
  },
  {
   "cell_type": "markdown",
   "id": "1da01d84",
   "metadata": {},
   "source": [
    "##### list"
   ]
  },
  {
   "cell_type": "markdown",
   "id": "63dba04a",
   "metadata": {},
   "source": [
    "loops over list elements"
   ]
  },
  {
   "cell_type": "code",
   "execution_count": 1,
   "id": "e2384ea8",
   "metadata": {},
   "outputs": [
    {
     "name": "stdout",
     "output_type": "stream",
     "text": [
      "1\n",
      "2\n",
      "3\n",
      "4\n"
     ]
    }
   ],
   "source": [
    "my_list = [1, 2, 3, 4]\n",
    "\n",
    "for i in my_list:\n",
    "    print(i)"
   ]
  },
  {
   "cell_type": "markdown",
   "id": "5e59282e",
   "metadata": {},
   "source": [
    "##### string"
   ]
  },
  {
   "cell_type": "markdown",
   "id": "f0744020",
   "metadata": {},
   "source": [
    "loops over the characters"
   ]
  },
  {
   "cell_type": "code",
   "execution_count": 2,
   "id": "27b814fa",
   "metadata": {},
   "outputs": [
    {
     "name": "stdout",
     "output_type": "stream",
     "text": [
      "p\n",
      "y\n",
      "t\n",
      "h\n",
      "o\n",
      "n\n"
     ]
    }
   ],
   "source": [
    "my_str = \"python\"\n",
    "\n",
    "for i in my_str:\n",
    "    print(i)"
   ]
  },
  {
   "cell_type": "markdown",
   "id": "f78ba03d",
   "metadata": {},
   "source": [
    "##### dictionary"
   ]
  },
  {
   "cell_type": "markdown",
   "id": "bbd27224",
   "metadata": {},
   "source": [
    "loops over the keys"
   ]
  },
  {
   "cell_type": "code",
   "execution_count": 3,
   "id": "35ac9d93",
   "metadata": {},
   "outputs": [
    {
     "name": "stdout",
     "output_type": "stream",
     "text": [
      "x\n",
      "y\n"
     ]
    }
   ],
   "source": [
    "my_dict = {\"x\": 1, \"y\": 2}\n",
    "\n",
    "for i in my_dict:\n",
    "    print(i)"
   ]
  },
  {
   "cell_type": "markdown",
   "id": "39cd479f",
   "metadata": {},
   "source": [
    "These above defined list, string and dictionary are called iterable objects"
   ]
  },
  {
   "cell_type": "markdown",
   "id": "81c05b34",
   "metadata": {},
   "source": [
    "### Iteration Protocol"
   ]
  },
  {
   "cell_type": "markdown",
   "id": "c0c9eec9",
   "metadata": {},
   "source": [
    "The built-in function ___iter___ takes an iterable object and returns an iterator."
   ]
  },
  {
   "cell_type": "code",
   "execution_count": 4,
   "id": "44b5d474",
   "metadata": {},
   "outputs": [],
   "source": [
    "iter_list = iter(my_list)\n",
    "iter_str = iter(my_str)\n",
    "iter_dict = iter(my_dict)"
   ]
  },
  {
   "cell_type": "code",
   "execution_count": 5,
   "id": "10043405",
   "metadata": {},
   "outputs": [
    {
     "name": "stdout",
     "output_type": "stream",
     "text": [
      "<list_iterator object at 0x7fe740256400>\n",
      "<str_iterator object at 0x7fe740256c70>\n",
      "<dict_keyiterator object at 0x7fe74025a540>\n"
     ]
    }
   ],
   "source": [
    "print(iter_list)\n",
    "print(iter_str)\n",
    "print(iter_dict)"
   ]
  },
  {
   "cell_type": "markdown",
   "id": "3fd5f7e9",
   "metadata": {},
   "source": [
    "Each time we call the ___next___ method on the iterator gives us the next element. If there are no more elements, it raises a ___StopIteration___."
   ]
  },
  {
   "cell_type": "markdown",
   "id": "9e4dda4f",
   "metadata": {},
   "source": [
    "##### list"
   ]
  },
  {
   "cell_type": "code",
   "execution_count": 6,
   "id": "4ad9be01",
   "metadata": {},
   "outputs": [
    {
     "name": "stdout",
     "output_type": "stream",
     "text": [
      "1\n",
      "2\n",
      "3\n",
      "4\n"
     ]
    }
   ],
   "source": [
    "print(next(iter_list))\n",
    "print(next(iter_list))\n",
    "print(next(iter_list))\n",
    "print(next(iter_list))\n",
    "#print(next(iter_list))         # uncommenting it will raise \"StopIteration\" error"
   ]
  },
  {
   "cell_type": "markdown",
   "id": "dad4a656",
   "metadata": {},
   "source": [
    "##### string"
   ]
  },
  {
   "cell_type": "code",
   "execution_count": 7,
   "id": "c14a5d56",
   "metadata": {},
   "outputs": [
    {
     "name": "stdout",
     "output_type": "stream",
     "text": [
      "p\n",
      "y\n",
      "t\n",
      "h\n",
      "o\n",
      "n\n"
     ]
    }
   ],
   "source": [
    "print(next(iter_str))\n",
    "print(next(iter_str))\n",
    "print(next(iter_str))\n",
    "print(next(iter_str))\n",
    "print(next(iter_str))\n",
    "print(next(iter_str))\n",
    "#print(next(iter_str))         # uncommenting it will raise \"StopIteration\" error"
   ]
  },
  {
   "cell_type": "markdown",
   "id": "17147acb",
   "metadata": {},
   "source": [
    "##### dictionary"
   ]
  },
  {
   "cell_type": "code",
   "execution_count": 8,
   "id": "42a3644f",
   "metadata": {},
   "outputs": [
    {
     "name": "stdout",
     "output_type": "stream",
     "text": [
      "x\n",
      "y\n"
     ]
    }
   ],
   "source": [
    "print(next(iter_dict))\n",
    "print(next(iter_dict))\n",
    "#print(next(iter_dict))         # uncommenting it will raise \"StopIteration\" error"
   ]
  },
  {
   "cell_type": "markdown",
   "id": "f4e60620",
   "metadata": {},
   "source": [
    "### Custom Iterator"
   ]
  },
  {
   "cell_type": "markdown",
   "id": "27d80152",
   "metadata": {},
   "source": [
    "An iterator to increment by 10"
   ]
  },
  {
   "cell_type": "code",
   "execution_count": 9,
   "id": "b0b96960",
   "metadata": {},
   "outputs": [],
   "source": [
    "class increment_by_10:\n",
    "    def __init__(self, n):\n",
    "        self.i = 0\n",
    "        self.n = n\n",
    "\n",
    "    def __iter__(self):\n",
    "        return self\n",
    "\n",
    "    def __next__(self):\n",
    "        if self.i < self.n:\n",
    "            i = self.i\n",
    "            self.i += 10\n",
    "            return i\n",
    "        else:\n",
    "            raise StopIteration()"
   ]
  },
  {
   "cell_type": "code",
   "execution_count": 10,
   "id": "453ae7fc",
   "metadata": {},
   "outputs": [
    {
     "name": "stdout",
     "output_type": "stream",
     "text": [
      "<__main__.increment_by_10 object at 0x7fe74026cac0>\n",
      "<__main__.increment_by_10 object at 0x7fe74026cac0>\n"
     ]
    }
   ],
   "source": [
    "iter_obj = increment_by_10(30)\n",
    "\n",
    "print(iter_obj)\n",
    "print(iter(iter_obj))"
   ]
  },
  {
   "cell_type": "code",
   "execution_count": 11,
   "id": "a1a7ee51",
   "metadata": {},
   "outputs": [
    {
     "name": "stdout",
     "output_type": "stream",
     "text": [
      "0\n",
      "10\n",
      "20\n"
     ]
    }
   ],
   "source": [
    "print(next(iter_obj))\n",
    "print(next(iter_obj))\n",
    "print(next(iter_obj))\n",
    "#print(next(iter_obj))         # uncommenting it will raise \"StopIteration\" error"
   ]
  },
  {
   "cell_type": "markdown",
   "id": "eb9cabe2",
   "metadata": {},
   "source": [
    "Creating a list from iterator"
   ]
  },
  {
   "cell_type": "code",
   "execution_count": 12,
   "id": "bec89d1e",
   "metadata": {},
   "outputs": [
    {
     "name": "stdout",
     "output_type": "stream",
     "text": [
      "[0, 10, 20]\n"
     ]
    }
   ],
   "source": [
    "my_10s_list = list(increment_by_10(30))\n",
    "print(my_10s_list)"
   ]
  },
  {
   "cell_type": "markdown",
   "id": "7f2cda8c",
   "metadata": {},
   "source": [
    "### Normal and Reverse iterators"
   ]
  },
  {
   "cell_type": "code",
   "execution_count": 13,
   "id": "aefda6d9",
   "metadata": {},
   "outputs": [
    {
     "name": "stdout",
     "output_type": "stream",
     "text": [
      "<list_iterator object at 0x7fe74029faf0>\n",
      "2\n",
      "4\n",
      "6\n",
      "8\n",
      "10\n"
     ]
    }
   ],
   "source": [
    "new_list = [2,4,6,8,10]\n",
    "\n",
    "normal_iterator = iter(new_list)\n",
    "\n",
    "print(normal_iterator)\n",
    "\n",
    "print(next(normal_iterator))\n",
    "print(next(normal_iterator))\n",
    "print(next(normal_iterator))\n",
    "print(next(normal_iterator))\n",
    "print(next(normal_iterator))\n",
    "#print(next(normal_iterator))         # uncommenting it will raise \"StopIteration\" error"
   ]
  },
  {
   "cell_type": "markdown",
   "id": "f6c5b929",
   "metadata": {},
   "source": [
    "The ___iter___ is already defined. We can manually define & use the ___reverse_iter___ . For this, it is needed to define a class which should have ___iter___ and ___next___ methods."
   ]
  },
  {
   "cell_type": "code",
   "execution_count": 14,
   "id": "3f91d26c",
   "metadata": {},
   "outputs": [],
   "source": [
    "class reverse_iter:\n",
    "    def __init__(self, n):\n",
    "        self.myList = n\n",
    "        self.listlength = len(n)\n",
    "\n",
    "    def __iter__(self):\n",
    "        return self\n",
    "\n",
    "    def __next__(self):\n",
    "        if self.listlength > 0:\n",
    "            val = self.myList[self.listlength - 1]\n",
    "            self.listlength -=1\n",
    "            return val\n",
    "        else:\n",
    "            raise StopIteration()"
   ]
  },
  {
   "cell_type": "code",
   "execution_count": 15,
   "id": "ecd3cada",
   "metadata": {},
   "outputs": [
    {
     "name": "stdout",
     "output_type": "stream",
     "text": [
      "<__main__.reverse_iter object at 0x7fe74026c760>\n",
      "10\n",
      "8\n",
      "6\n",
      "4\n",
      "2\n"
     ]
    }
   ],
   "source": [
    "new_list = [2,4,6,8,10]\n",
    "\n",
    "reverse_iterator = reverse_iter(new_list)\n",
    "\n",
    "print(reverse_iterator)\n",
    "\n",
    "print(next(reverse_iterator))\n",
    "print(next(reverse_iterator))\n",
    "print(next(reverse_iterator))\n",
    "print(next(reverse_iterator))\n",
    "print(next(reverse_iterator))\n",
    "#print(next(reverse_iterator))         # uncommenting it will raise \"StopIteration\" error"
   ]
  },
  {
   "cell_type": "code",
   "execution_count": null,
   "id": "cc1d641f",
   "metadata": {},
   "outputs": [],
   "source": []
  }
 ],
 "metadata": {
  "kernelspec": {
   "display_name": "Python 3 (ipykernel)",
   "language": "python",
   "name": "python3"
  },
  "language_info": {
   "codemirror_mode": {
    "name": "ipython",
    "version": 3
   },
   "file_extension": ".py",
   "mimetype": "text/x-python",
   "name": "python",
   "nbconvert_exporter": "python",
   "pygments_lexer": "ipython3",
   "version": "3.9.7"
  }
 },
 "nbformat": 4,
 "nbformat_minor": 5
}
