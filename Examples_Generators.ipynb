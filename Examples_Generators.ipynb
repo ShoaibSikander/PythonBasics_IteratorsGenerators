{
 "cells": [
  {
   "cell_type": "markdown",
   "id": "56781138",
   "metadata": {},
   "source": [
    "# Generators"
   ]
  },
  {
   "cell_type": "markdown",
   "id": "e6767a90",
   "metadata": {},
   "source": [
    "Generators simplifies creation of iterators. A generator is a function that produces a sequence of results instead of a single value."
   ]
  },
  {
   "cell_type": "markdown",
   "id": "b853e005",
   "metadata": {},
   "source": [
    "### Defining a custom generator"
   ]
  },
  {
   "cell_type": "code",
   "execution_count": 1,
   "id": "785b608b",
   "metadata": {},
   "outputs": [],
   "source": [
    "def increment_by_10(n):\n",
    "    i = 0\n",
    "    while i < n:\n",
    "        yield i\n",
    "        i += 10"
   ]
  },
  {
   "cell_type": "code",
   "execution_count": 2,
   "id": "373170b8",
   "metadata": {},
   "outputs": [
    {
     "name": "stdout",
     "output_type": "stream",
     "text": [
      "<generator object increment_by_10 at 0x7ff0da534f20>\n",
      "<generator object increment_by_10 at 0x7ff0da534f20>\n",
      "0\n",
      "10\n",
      "20\n"
     ]
    }
   ],
   "source": [
    "gen_obj = increment_by_10(30)\n",
    "\n",
    "print(gen_obj)\n",
    "print(iter(gen_obj))\n",
    "\n",
    "print(next(gen_obj))\n",
    "print(next(gen_obj))\n",
    "print(next(gen_obj))\n",
    "#print(next(gen_obj))         # uncommenting it will raise \"StopIteration\" error"
   ]
  },
  {
   "cell_type": "markdown",
   "id": "d5b70c2f",
   "metadata": {},
   "source": [
    "### Generator Example"
   ]
  },
  {
   "cell_type": "code",
   "execution_count": 3,
   "id": "d5389792",
   "metadata": {},
   "outputs": [],
   "source": [
    "def gen_example():\n",
    "    print(\"begin\")\n",
    "    for i in range(3):\n",
    "        print(\"before yield\", i)\n",
    "        yield i\n",
    "        print(\"after yield\", i)\n",
    "    print(\"end\")"
   ]
  },
  {
   "cell_type": "code",
   "execution_count": 4,
   "id": "2ee52af5",
   "metadata": {},
   "outputs": [],
   "source": [
    "gen_obj = gen_example()"
   ]
  },
  {
   "cell_type": "code",
   "execution_count": 5,
   "id": "4cc4f450",
   "metadata": {},
   "outputs": [
    {
     "name": "stdout",
     "output_type": "stream",
     "text": [
      "<generator object gen_example at 0x7ff0d8435120>\n"
     ]
    }
   ],
   "source": [
    "print(gen_obj)"
   ]
  },
  {
   "cell_type": "code",
   "execution_count": 6,
   "id": "97948665",
   "metadata": {},
   "outputs": [
    {
     "name": "stdout",
     "output_type": "stream",
     "text": [
      "begin\n",
      "before yield 0\n",
      "0\n",
      "--------------------\n",
      "after yield 0\n",
      "before yield 1\n",
      "1\n",
      "--------------------\n",
      "after yield 1\n",
      "before yield 2\n",
      "2\n",
      "--------------------\n",
      "after yield 2\n",
      "end\n"
     ]
    },
    {
     "ename": "StopIteration",
     "evalue": "",
     "output_type": "error",
     "traceback": [
      "\u001b[0;31m---------------------------------------------------------------------------\u001b[0m",
      "\u001b[0;31mStopIteration\u001b[0m                             Traceback (most recent call last)",
      "\u001b[0;32m/tmp/ipykernel_541/126923442.py\u001b[0m in \u001b[0;36m<module>\u001b[0;34m\u001b[0m\n\u001b[1;32m      5\u001b[0m \u001b[0mprint\u001b[0m\u001b[0;34m(\u001b[0m\u001b[0mnext\u001b[0m\u001b[0;34m(\u001b[0m\u001b[0mgen_obj\u001b[0m\u001b[0;34m)\u001b[0m\u001b[0;34m)\u001b[0m\u001b[0;34m\u001b[0m\u001b[0;34m\u001b[0m\u001b[0m\n\u001b[1;32m      6\u001b[0m \u001b[0mprint\u001b[0m\u001b[0;34m(\u001b[0m\u001b[0;34m\"--------------------\"\u001b[0m\u001b[0;34m)\u001b[0m\u001b[0;34m\u001b[0m\u001b[0;34m\u001b[0m\u001b[0m\n\u001b[0;32m----> 7\u001b[0;31m \u001b[0mprint\u001b[0m\u001b[0;34m(\u001b[0m\u001b[0mnext\u001b[0m\u001b[0;34m(\u001b[0m\u001b[0mgen_obj\u001b[0m\u001b[0;34m)\u001b[0m\u001b[0;34m)\u001b[0m         \u001b[0;31m# uncommenting it will raise \"StopIteration\" error\u001b[0m\u001b[0;34m\u001b[0m\u001b[0;34m\u001b[0m\u001b[0m\n\u001b[0m",
      "\u001b[0;31mStopIteration\u001b[0m: "
     ]
    }
   ],
   "source": [
    "print(next(gen_obj))\n",
    "print(\"--------------------\")\n",
    "print(next(gen_obj))\n",
    "print(\"--------------------\")\n",
    "print(next(gen_obj))\n",
    "print(\"--------------------\")\n",
    "print(next(gen_obj))         # uncommenting it will raise \"StopIteration\" error"
   ]
  },
  {
   "cell_type": "code",
   "execution_count": null,
   "id": "801a29f4",
   "metadata": {},
   "outputs": [],
   "source": []
  },
  {
   "cell_type": "code",
   "execution_count": null,
   "id": "599ffd6e",
   "metadata": {},
   "outputs": [],
   "source": []
  },
  {
   "cell_type": "code",
   "execution_count": null,
   "id": "1c56f6cb",
   "metadata": {},
   "outputs": [],
   "source": []
  }
 ],
 "metadata": {
  "kernelspec": {
   "display_name": "Python 3 (ipykernel)",
   "language": "python",
   "name": "python3"
  },
  "language_info": {
   "codemirror_mode": {
    "name": "ipython",
    "version": 3
   },
   "file_extension": ".py",
   "mimetype": "text/x-python",
   "name": "python",
   "nbconvert_exporter": "python",
   "pygments_lexer": "ipython3",
   "version": "3.9.7"
  }
 },
 "nbformat": 4,
 "nbformat_minor": 5
}
