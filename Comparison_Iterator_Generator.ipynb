{
 "cells": [
  {
   "cell_type": "markdown",
   "id": "b09afc81",
   "metadata": {},
   "source": [
    "# Iterator vs Generator"
   ]
  },
  {
   "cell_type": "markdown",
   "id": "c1876e44",
   "metadata": {},
   "source": [
    "An iterator and a generator to start from 0 and increment by 10 till the given highest number provided by user"
   ]
  },
  {
   "cell_type": "code",
   "execution_count": 1,
   "id": "0526f377",
   "metadata": {},
   "outputs": [],
   "source": [
    "max_limit = 50"
   ]
  },
  {
   "cell_type": "markdown",
   "id": "93e2b00f",
   "metadata": {},
   "source": [
    "### Iterator Class"
   ]
  },
  {
   "cell_type": "code",
   "execution_count": 2,
   "id": "5d6f46a0",
   "metadata": {},
   "outputs": [],
   "source": [
    "class iterator_ten:\n",
    "    def __init__(self, n):\n",
    "        self.i = 0\n",
    "        self.n = n\n",
    "\n",
    "    def __iter__(self):\n",
    "        return self\n",
    "\n",
    "    def __next__(self):\n",
    "        if self.i < self.n:\n",
    "            i = self.i\n",
    "            self.i += 10\n",
    "            return i\n",
    "        else:\n",
    "            raise StopIteration()"
   ]
  },
  {
   "cell_type": "markdown",
   "id": "ae404b61",
   "metadata": {},
   "source": [
    "### Generator function"
   ]
  },
  {
   "cell_type": "code",
   "execution_count": 3,
   "id": "ce34388e",
   "metadata": {},
   "outputs": [],
   "source": [
    "def generator_ten(n):\n",
    "    i = 0\n",
    "    while i < n:\n",
    "        yield i\n",
    "        i += 10"
   ]
  },
  {
   "cell_type": "markdown",
   "id": "9d2349b6",
   "metadata": {},
   "source": [
    "### Making objects"
   ]
  },
  {
   "cell_type": "code",
   "execution_count": 4,
   "id": "4708dd44",
   "metadata": {},
   "outputs": [],
   "source": [
    "iter_obj = iterator_ten(max_limit)\n",
    "gen_obj = generator_ten(max_limit)"
   ]
  },
  {
   "cell_type": "markdown",
   "id": "d71d6b5d",
   "metadata": {},
   "source": [
    "### Checking object types"
   ]
  },
  {
   "cell_type": "code",
   "execution_count": 5,
   "id": "21358101",
   "metadata": {},
   "outputs": [
    {
     "name": "stdout",
     "output_type": "stream",
     "text": [
      "<__main__.iterator_ten object at 0x7f5e900b3040>\n",
      "<__main__.iterator_ten object at 0x7f5e900b3040>\n",
      "--------------------\n",
      "<generator object generator_ten at 0x7f5e900a8120>\n",
      "<generator object generator_ten at 0x7f5e900a8120>\n"
     ]
    }
   ],
   "source": [
    "print(iter_obj)\n",
    "print(iter(iter_obj))\n",
    "\n",
    "print(\"--------------------\")\n",
    "\n",
    "print(gen_obj)\n",
    "print(iter(gen_obj))"
   ]
  },
  {
   "cell_type": "markdown",
   "id": "20080127",
   "metadata": {},
   "source": [
    "### Calling \"next\" method"
   ]
  },
  {
   "cell_type": "code",
   "execution_count": 6,
   "id": "04e8e2ad",
   "metadata": {},
   "outputs": [
    {
     "name": "stdout",
     "output_type": "stream",
     "text": [
      "0\n",
      "10\n",
      "20\n",
      "--------------------\n",
      "0\n",
      "10\n",
      "20\n"
     ]
    }
   ],
   "source": [
    "print(next(iter_obj))\n",
    "print(next(iter_obj))\n",
    "print(next(iter_obj))\n",
    "#print(next(iter_obj))         # uncommenting it will raise \"StopIteration\" error\n",
    "\n",
    "print(\"--------------------\")\n",
    "\n",
    "print(next(gen_obj))\n",
    "print(next(gen_obj))\n",
    "print(next(gen_obj))\n",
    "#print(next(gen_obj))         # uncommenting it will raise \"StopIteration\" error"
   ]
  },
  {
   "cell_type": "markdown",
   "id": "9046278b",
   "metadata": {},
   "source": [
    "So a generator is also an iterator. You don’t have to worry about the iterator protocol. When __next__ method is called for the first time, the function starts executing until it reaches __yield__ statement.\n",
    "\n",
    "In other words, a yielded value is returned by the __next__ call."
   ]
  },
  {
   "cell_type": "code",
   "execution_count": null,
   "id": "89d707a5",
   "metadata": {},
   "outputs": [],
   "source": []
  }
 ],
 "metadata": {
  "kernelspec": {
   "display_name": "Python 3 (ipykernel)",
   "language": "python",
   "name": "python3"
  },
  "language_info": {
   "codemirror_mode": {
    "name": "ipython",
    "version": 3
   },
   "file_extension": ".py",
   "mimetype": "text/x-python",
   "name": "python",
   "nbconvert_exporter": "python",
   "pygments_lexer": "ipython3",
   "version": "3.9.7"
  }
 },
 "nbformat": 4,
 "nbformat_minor": 5
}
